{
 "cells": [
  {
   "cell_type": "markdown",
   "metadata": {},
   "source": [
    "## Relational Operations\n",
    "\n",
    "They can be used for comparing bnjects\n",
    "* == for comparing for idenetical values\n",
    "* != not equal\n",
    "* \\>\n",
    "* \\<\n",
    "* \\>=\n",
    "* \\<="
   ]
  },
  {
   "cell_type": "code",
   "execution_count": 1,
   "metadata": {},
   "outputs": [
    {
     "data": {
      "text/plain": [
       "True"
      ]
     },
     "execution_count": 1,
     "metadata": {},
     "output_type": "execute_result"
    }
   ],
   "source": [
    "a = 7\n",
    "a == 7"
   ]
  },
  {
   "cell_type": "code",
   "execution_count": 2,
   "metadata": {},
   "outputs": [
    {
     "data": {
      "text/plain": [
       "False"
      ]
     },
     "execution_count": 2,
     "metadata": {},
     "output_type": "execute_result"
    }
   ],
   "source": [
    "a != 7"
   ]
  },
  {
   "cell_type": "code",
   "execution_count": 3,
   "metadata": {},
   "outputs": [
    {
     "data": {
      "text/plain": [
       "False"
      ]
     },
     "execution_count": 3,
     "metadata": {},
     "output_type": "execute_result"
    }
   ],
   "source": [
    "a > 8"
   ]
  },
  {
   "cell_type": "markdown",
   "metadata": {},
   "source": [
    "## Contrl Flow\n",
    "\n",
    "### Conditional Control Flow\n",
    "Remember indentation in python (4 spaces)\n",
    "\n",
    "**IF statement**"
   ]
  },
  {
   "cell_type": "code",
   "execution_count": 4,
   "metadata": {},
   "outputs": [
    {
     "name": "stdout",
     "output_type": "stream",
     "text": [
      "It is true\n"
     ]
    }
   ],
   "source": [
    "if True:\n",
    "    print(\"It is true\")"
   ]
  },
  {
   "cell_type": "code",
   "execution_count": 5,
   "metadata": {},
   "outputs": [
    {
     "name": "stdout",
     "output_type": "stream",
     "text": [
      "a is 7\n"
     ]
    }
   ],
   "source": [
    "a = 7\n",
    "if a == 7:\n",
    "    print(\"a is 7\")"
   ]
  },
  {
   "cell_type": "code",
   "execution_count": 6,
   "metadata": {},
   "outputs": [
    {
     "name": "stdout",
     "output_type": "stream",
     "text": [
      "Yes please\n"
     ]
    }
   ],
   "source": [
    "# test wiht boolean constructor\n",
    "if bool(\"eggs\"): # check if the string is empty\n",
    "    print(\"Yes please\")"
   ]
  },
  {
   "cell_type": "code",
   "execution_count": 7,
   "metadata": {},
   "outputs": [
    {
     "name": "stdout",
     "output_type": "stream",
     "text": [
      "Yes please\n"
     ]
    }
   ],
   "source": [
    "if \"eggs\": # check if the string is empty\n",
    "    print(\"Yes please\")"
   ]
  },
  {
   "cell_type": "markdown",
   "metadata": {},
   "source": [
    "### if ... else case"
   ]
  },
  {
   "cell_type": "code",
   "execution_count": 8,
   "metadata": {},
   "outputs": [
    {
     "name": "stdout",
     "output_type": "stream",
     "text": [
      "Less than 50\n",
      "Program continues\n"
     ]
    }
   ],
   "source": [
    "h = 42\n",
    "if h > 50:\n",
    "    print(\"Greater than 50\")\n",
    "else:\n",
    "    print(\"Less than 50\")\n",
    "    \n",
    "print(\"Program continues\")"
   ]
  },
  {
   "cell_type": "markdown",
   "metadata": {},
   "source": [
    "### if .. elif .. else\n",
    "One **if** statement, one or more **elif**, and one **else** statement"
   ]
  },
  {
   "cell_type": "code",
   "execution_count": 9,
   "metadata": {},
   "outputs": [
    {
     "name": "stdout",
     "output_type": "stream",
     "text": [
      "Smaller than 20\n",
      "Program continues\n"
     ]
    }
   ],
   "source": [
    "h = 4\n",
    "if h > 50:\n",
    "    print(\"Greater than 50\")\n",
    "elif h < 20:\n",
    "    print(\"Smaller than 20\")\n",
    "else:\n",
    "    print(\"Between 20 and 50\")\n",
    "    \n",
    "print(\"Program continues\")\n",
    "\n",
    "# Flat is better than nested"
   ]
  },
  {
   "cell_type": "code",
   "execution_count": 10,
   "metadata": {},
   "outputs": [
    {
     "name": "stdout",
     "output_type": "stream",
     "text": [
      "Smaller than 20\n",
      "Program continues\n"
     ]
    }
   ],
   "source": [
    "h = 4\n",
    "if h > 50:\n",
    "    print(\"Greater than 50\")\n",
    "else:\n",
    "    if h < 20:\n",
    "        print(\"Smaller than 20\")\n",
    "    else:\n",
    "        print(\"Between 20 and 50\")\n",
    "    \n",
    "print(\"Program continues\")"
   ]
  },
  {
   "cell_type": "markdown",
   "metadata": {},
   "source": [
    "### Conditional Repetition\n",
    "\n",
    "Two types of loops: **for-loops** and **while-loops**.\n",
    "\n",
    "For **while-loops**, we use the keyword **while**, which is followed by a Boolean expression."
   ]
  },
  {
   "cell_type": "code",
   "execution_count": 11,
   "metadata": {},
   "outputs": [
    {
     "name": "stdout",
     "output_type": "stream",
     "text": [
      "The value of c is 5\n",
      "The value of c is 4\n",
      "The value of c is 3\n",
      "The value of c is 2\n",
      "The value of c is 1\n"
     ]
    }
   ],
   "source": [
    "c = 5\n",
    "while c != 0:\n",
    "    print(\"The value of c is\", c)\n",
    "    # c = c - 1\n",
    "    c -= 1"
   ]
  },
  {
   "cell_type": "code",
   "execution_count": null,
   "metadata": {},
   "outputs": [],
   "source": [
    "# BMI = (weight in kilograms) / (height in meters^2)\n",
    "import math\n",
    "\n",
    "weight = float(input(\"Please enter your weight in kilograms: \"))\n",
    "height = float(input(\"Please enter your height in meters: \"))\n",
    "BMI = weight / (math.pow(height, 2))\n",
    "\n",
    "print(\"Your BMI is\", round(BMI, 2))"
   ]
  },
  {
   "cell_type": "code",
   "execution_count": null,
   "metadata": {},
   "outputs": [],
   "source": [
    "# BMI = (weight in kilograms) / (height in meters^2)\n",
    "import math\n",
    "count = 3\n",
    "while count > 0:\n",
    "    weight = float(input(\"Please enter your weight in kilograms: \"))\n",
    "    height = float(input(\"Please enter your height in meters: \"))\n",
    "    BMI = weight / (math.pow(height, 2))\n",
    "    print(\"Your BMI is\", round(BMI, 2))\n",
    "    count -= 1"
   ]
  },
  {
   "cell_type": "code",
   "execution_count": null,
   "metadata": {},
   "outputs": [],
   "source": [
    "# BMI = (weight in kilograms) / (height in meters^2)\n",
    "import math\n",
    "\n",
    "keepGoing = \"Y\"\n",
    "\n",
    "while keepGoing == \"Y\" or keepGoing == \"y\":\n",
    "    weight = float(input(\"Please enter your weight in kilograms: \"))\n",
    "    height = float(input(\"Please enter your height in meters: \"))\n",
    "    BMI = weight / (math.pow(height, 2))\n",
    "    print(\"Your BMI is\", round(BMI, 2))\n",
    "    keepGoing = input(\"Would you like to continue? Y/N \")"
   ]
  },
  {
   "cell_type": "code",
   "execution_count": null,
   "metadata": {},
   "outputs": [],
   "source": []
  }
 ],
 "metadata": {
  "kernelspec": {
   "display_name": "Python 3",
   "language": "python",
   "name": "python3"
  },
  "language_info": {
   "codemirror_mode": {
    "name": "ipython",
    "version": 3
   },
   "file_extension": ".py",
   "mimetype": "text/x-python",
   "name": "python",
   "nbconvert_exporter": "python",
   "pygments_lexer": "ipython3",
   "version": "3.7.1"
  }
 },
 "nbformat": 4,
 "nbformat_minor": 2
}
